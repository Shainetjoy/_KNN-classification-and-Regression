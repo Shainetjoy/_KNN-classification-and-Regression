{
  "nbformat": 4,
  "nbformat_minor": 0,
  "metadata": {
    "colab": {
      "provenance": []
    },
    "kernelspec": {
      "name": "python3",
      "display_name": "Python 3"
    },
    "language_info": {
      "name": "python"
    }
  },
  "cells": [
    {
      "cell_type": "code",
      "source": [
        "import pandas as pd"
      ],
      "metadata": {
        "id": "EKPH9-nwBAdS"
      },
      "execution_count": null,
      "outputs": []
    },
    {
      "cell_type": "code",
      "execution_count": null,
      "metadata": {
        "id": "WL53QB07AYMX"
      },
      "outputs": [],
      "source": [
        "data = pd.read_csv(\"/content/tennis.csv\")"
      ]
    },
    {
      "cell_type": "code",
      "source": [
        "data.info()"
      ],
      "metadata": {
        "colab": {
          "base_uri": "https://localhost:8080/"
        },
        "id": "4B3eAhTIA73m",
        "outputId": "015064da-3690-4582-bdac-3357bc3595a9"
      },
      "execution_count": null,
      "outputs": [
        {
          "output_type": "stream",
          "name": "stdout",
          "text": [
            "<class 'pandas.core.frame.DataFrame'>\n",
            "RangeIndex: 14 entries, 0 to 13\n",
            "Data columns (total 5 columns):\n",
            " #   Column    Non-Null Count  Dtype \n",
            "---  ------    --------------  ----- \n",
            " 0   outlook   14 non-null     object\n",
            " 1   temp      14 non-null     object\n",
            " 2   humidity  14 non-null     object\n",
            " 3   windy     14 non-null     bool  \n",
            " 4   play      14 non-null     object\n",
            "dtypes: bool(1), object(4)\n",
            "memory usage: 590.0+ bytes\n"
          ]
        }
      ]
    },
    {
      "cell_type": "markdown",
      "source": [],
      "metadata": {
        "id": "FDSzncoRJKja"
      }
    },
    {
      "cell_type": "code",
      "source": [
        "data.columns\n"
      ],
      "metadata": {
        "colab": {
          "base_uri": "https://localhost:8080/"
        },
        "id": "8mDIglOFBGzJ",
        "outputId": "a983fd09-1e62-4dfe-9ae7-a28716f15931"
      },
      "execution_count": null,
      "outputs": [
        {
          "output_type": "execute_result",
          "data": {
            "text/plain": [
              "Index(['outlook', 'temp', 'humidity', 'windy', 'play'], dtype='object')"
            ]
          },
          "metadata": {},
          "execution_count": 5
        }
      ]
    },
    {
      "cell_type": "code",
      "source": [
        "X_train = pd.get_dummies(data[['outlook', 'temp', 'humidity', 'windy']])\n",
        "y_train = pd.DataFrame(data['play'])\n",
        "\n",
        "#assigning predictor and target variables\n",
        "#x= np.array([[-3,7],[1,5], [1,2], [-2,0], [2,3], [-4,0], [-1,1], [1,1], [-2,2], [2,7], [-4,1], [-2,7]])\n",
        "#Y = np.array([3, 3, 3, 3, 4, 3, 3, 4, 3, 4, 4, 4])\n",
        "print(X_train.info())\n",
        "print(X_train.head())"
      ],
      "metadata": {
        "colab": {
          "base_uri": "https://localhost:8080/"
        },
        "id": "k09XjRuqBPWI",
        "outputId": "e0ffe1b2-e38d-41e9-a23a-056c335de9a1"
      },
      "execution_count": null,
      "outputs": [
        {
          "output_type": "stream",
          "name": "stdout",
          "text": [
            "<class 'pandas.core.frame.DataFrame'>\n",
            "RangeIndex: 14 entries, 0 to 13\n",
            "Data columns (total 9 columns):\n",
            " #   Column            Non-Null Count  Dtype\n",
            "---  ------            --------------  -----\n",
            " 0   windy             14 non-null     bool \n",
            " 1   outlook_overcast  14 non-null     bool \n",
            " 2   outlook_rainy     14 non-null     bool \n",
            " 3   outlook_sunny     14 non-null     bool \n",
            " 4   temp_cool         14 non-null     bool \n",
            " 5   temp_hot          14 non-null     bool \n",
            " 6   temp_mild         14 non-null     bool \n",
            " 7   humidity_high     14 non-null     bool \n",
            " 8   humidity_normal   14 non-null     bool \n",
            "dtypes: bool(9)\n",
            "memory usage: 254.0 bytes\n",
            "None\n",
            "   windy  outlook_overcast  outlook_rainy  outlook_sunny  temp_cool  temp_hot  \\\n",
            "0  False             False          False           True      False      True   \n",
            "1   True             False          False           True      False      True   \n",
            "2  False              True          False          False      False      True   \n",
            "3  False             False           True          False      False     False   \n",
            "4  False             False           True          False       True     False   \n",
            "\n",
            "   temp_mild  humidity_high  humidity_normal  \n",
            "0      False           True            False  \n",
            "1      False           True            False  \n",
            "2      False           True            False  \n",
            "3       True           True            False  \n",
            "4      False          False             True  \n"
          ]
        }
      ]
    },
    {
      "cell_type": "code",
      "source": [
        "#Import Library of Gaussian Naive Bayes model\n",
        "from sklearn.naive_bayes import GaussianNB\n",
        "import numpy as np"
      ],
      "metadata": {
        "id": "_N0Bnw1vBaEg"
      },
      "execution_count": null,
      "outputs": []
    },
    {
      "cell_type": "code",
      "source": [
        "#Create a Gaussian Classifier\n",
        "model = GaussianNB()\n",
        "\n",
        "# Train the model using the training sets\n",
        "model.fit(X_train, y_train)\n",
        "\n",
        "#Predict Output\n",
        "predicted= model.predict([[False,1,0,0,0,1,0,1,0]])\n",
        "print (predicted)"
      ],
      "metadata": {
        "colab": {
          "base_uri": "https://localhost:8080/"
        },
        "id": "XRFCs6LdBgoh",
        "outputId": "244a4803-e989-409d-eba6-164fd36ba71d"
      },
      "execution_count": null,
      "outputs": [
        {
          "output_type": "stream",
          "name": "stdout",
          "text": [
            "['yes']\n"
          ]
        },
        {
          "output_type": "stream",
          "name": "stderr",
          "text": [
            "/usr/local/lib/python3.10/dist-packages/sklearn/utils/validation.py:1143: DataConversionWarning: A column-vector y was passed when a 1d array was expected. Please change the shape of y to (n_samples, ), for example using ravel().\n",
            "  y = column_or_1d(y, warn=True)\n",
            "/usr/local/lib/python3.10/dist-packages/sklearn/base.py:439: UserWarning: X does not have valid feature names, but GaussianNB was fitted with feature names\n",
            "  warnings.warn(\n"
          ]
        }
      ]
    },
    {
      "cell_type": "code",
      "source": [],
      "metadata": {
        "id": "jgOld5NJBnA_"
      },
      "execution_count": null,
      "outputs": []
    }
  ]
}